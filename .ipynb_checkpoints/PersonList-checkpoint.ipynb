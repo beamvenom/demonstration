{
 "cells": [
  {
   "cell_type": "code",
   "execution_count": 5,
   "metadata": {},
   "outputs": [],
   "source": [
    "import import_ipynb\n",
    "from Person import Person\n",
    "class PersonList:\n",
    "    def __init__(self):\n",
    "        self.personList = {};\n",
    "    \n",
    "    def add(self, person):\n",
    "        self.personList[person.number]= person;\n",
    "    \n",
    "    def get(self, number):\n",
    "        return self.personList[number]\n",
    "        \n",
    "    def toString(self):\n",
    "        count = 0;\n",
    "        sortedList = list(self.personList.values());\n",
    "        sortedList.sort(key=lambda x: x.name, reverse=False);\n",
    "\n",
    "        for person in sortedList:\n",
    "            count+=1;\n",
    "            print(\"{0}:\\t{1}\".format(count,person.toString()));"
   ]
  },
  {
   "cell_type": "code",
   "execution_count": null,
   "metadata": {},
   "outputs": [],
   "source": []
  },
  {
   "cell_type": "code",
   "execution_count": null,
   "metadata": {},
   "outputs": [],
   "source": []
  }
 ],
 "metadata": {
  "kernelspec": {
   "display_name": "Python 3",
   "language": "python",
   "name": "python3"
  },
  "language_info": {
   "codemirror_mode": {
    "name": "ipython",
    "version": 3
   },
   "file_extension": ".py",
   "mimetype": "text/x-python",
   "name": "python",
   "nbconvert_exporter": "python",
   "pygments_lexer": "ipython3",
   "version": "3.7.3"
  },
  "widgets": {
   "application/vnd.jupyter.widget-state+json": {
    "state": {},
    "version_major": 2,
    "version_minor": 0
   }
  }
 },
 "nbformat": 4,
 "nbformat_minor": 2
}
