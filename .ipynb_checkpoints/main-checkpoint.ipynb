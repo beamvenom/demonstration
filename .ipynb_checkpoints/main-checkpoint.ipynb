{
 "cells": [
  {
   "cell_type": "code",
   "execution_count": null,
   "metadata": {},
   "outputs": [],
   "source": [
    "import import_ipynb\n",
    "from Person import Person\n",
    "from TimeAnalyzer import TimeAnalyzer\n",
    "from ScheduleReader import ScheduleReader\n",
    "from datetime import datetime, timedelta\n",
    "import time\n",
    "#from PersonList import PersonList\n",
    "def readLine(text=\"\"):\n",
    "        print(text);\n",
    "        return input();\n",
    "\n",
    "class main:\n",
    "    s = ScheduleReader(\"freebusy.txt\");\n",
    "    personList = s.transform();\n",
    "    chosenPerson = set();\n",
    "    count = 0;\n",
    "    while(True):\n",
    "        count+=1;\n",
    "        answer = readLine(\"Person {}\".format(count));\n",
    "        if (answer == \"\"):\n",
    "            break;\n",
    "        else:   \n",
    "            chosenPerson.add(answer);\n",
    "            \n",
    "    print(chosenPerson)\n",
    "    analyzer=TimeAnalyzer([8,0],[17,0]);\n",
    "    #result=analyzer.findTime(90, datetime(2015, 1, 27, 0, 0),datetime(2015, 1, 28, 23, 30),[personList.personList[\"57646786307395936680161735716561753784\"],personList.personList[\"259939411636051033617118653993975778241\"]]);\n",
    "    start_time = time.time()\n",
    "    result=analyzer.findTime(90, datetime(2015, 1, 1, 0, 0),datetime(2015, 9, 30, 23, 30),personList.personList.values());\n",
    "    elapsed_time = time.time() - start_time\n",
    "    print(\"Found Time is: {0} to {1} in: {2}\".format(result[0],result[1],elapsed_time));\n",
    "    "
   ]
  },
  {
   "cell_type": "code",
   "execution_count": null,
   "metadata": {},
   "outputs": [],
   "source": []
  }
 ],
 "metadata": {
  "kernelspec": {
   "display_name": "Python 3",
   "language": "python",
   "name": "python3"
  },
  "language_info": {
   "codemirror_mode": {
    "name": "ipython",
    "version": 3
   },
   "file_extension": ".py",
   "mimetype": "text/x-python",
   "name": "python",
   "nbconvert_exporter": "python",
   "pygments_lexer": "ipython3",
   "version": "3.7.3"
  },
  "widgets": {
   "application/vnd.jupyter.widget-state+json": {
    "state": {},
    "version_major": 2,
    "version_minor": 0
   }
  }
 },
 "nbformat": 4,
 "nbformat_minor": 2
}
