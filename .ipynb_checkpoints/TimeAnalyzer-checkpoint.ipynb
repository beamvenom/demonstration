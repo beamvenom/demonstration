{
 "cells": [
  {
   "cell_type": "code",
   "execution_count": 7,
   "metadata": {},
   "outputs": [],
   "source": [
    "import sys\n",
    "import import_ipynb\n",
    "from Person import Person\n",
    "from datetime import datetime, timedelta\n",
    "class TimeAnalyzer:\n",
    "    def timeInRange(self,start, end, x):\n",
    "        return start <= x <= end\n",
    "    def __init__(self,officeStart,officeEnd):\n",
    "        self.officeStart = officeStart;\n",
    "        self.officeEnd = officeEnd;\n",
    "    def findTime(self,duration,startDate,endDate,*people):\n",
    "        if(startDate.hour < self.officeStart[0]):\n",
    "            startDate = startDate.replace(hour=self.officeStart[0],minute = self.officeStart[1]);\n",
    "        allBusyTimes = []\n",
    "        for person in people[0]:\n",
    "            for busyTime in person.busyTimes:\n",
    "                if(self.timeInRange(startDate,endDate,busyTime[0])):\n",
    "                    allBusyTimes.append(busyTime);\n",
    "                    #print(busyTime)\n",
    "                elif(self.timeInRange(startDate,endDate,busyTime[1])):\n",
    "                    allBusyTimes.append(busyTime);\n",
    "                    #print(busyTime)\n",
    "                    \n",
    "        testTime = startDate;\n",
    "        found = False;\n",
    "        while found == False:\n",
    "            found = True;\n",
    "            for busyTime in allBusyTimes:\n",
    "                if (self.timeInRange(busyTime[0],busyTime[1],testTime) or self.timeInRange(busyTime[0],busyTime[1],testTime+timedelta(minutes=duration))):\n",
    "                    #print(\"from {}\".format(testTime))\n",
    "                    #print(\"From {} to {}\".format(busyTime[0],busyTime[1]));\n",
    "                    #testTime +=timedelta(minutes=30);  #1.2 seconds\n",
    "                    testTime = testTime.replace(hour=busyTime[1].hour, minute = busyTime[1].minute)+timedelta(minutes=30); #0.38 sec\n",
    "                    #print(\"to {}\".format(testTime))\n",
    "                    if(testTime+timedelta(minutes=duration)>=datetime(testTime.year,testTime.month,testTime.day,self.officeEnd[0],self.officeEnd[1])):\n",
    "                        \n",
    "                        #print(\"From {} to {}\".format(busyTime[0],busyTime[1]));\n",
    "                        testTime += timedelta(days=1);\n",
    "                        testTime = testTime.replace(hour=self.officeStart[0],minute = self.officeStart[1]);\n",
    "                    found = False;\n",
    "                    break;\n",
    "                if(testTime+timedelta(minutes=duration)>=datetime(endDate.year,endDate.month,endDate.day,self.officeEnd[0],self.officeEnd[1])):\n",
    "                    return [\"Unable\",\"Find Time\"];\n",
    "                    \n",
    "        return [testTime,testTime+timedelta(minutes=duration)]    \n",
    "        "
   ]
  },
  {
   "cell_type": "code",
   "execution_count": null,
   "metadata": {},
   "outputs": [],
   "source": []
  },
  {
   "cell_type": "code",
   "execution_count": null,
   "metadata": {},
   "outputs": [],
   "source": []
  },
  {
   "cell_type": "code",
   "execution_count": null,
   "metadata": {},
   "outputs": [],
   "source": []
  },
  {
   "cell_type": "code",
   "execution_count": null,
   "metadata": {},
   "outputs": [],
   "source": []
  },
  {
   "cell_type": "code",
   "execution_count": null,
   "metadata": {},
   "outputs": [],
   "source": []
  },
  {
   "cell_type": "code",
   "execution_count": null,
   "metadata": {},
   "outputs": [],
   "source": []
  },
  {
   "cell_type": "code",
   "execution_count": null,
   "metadata": {},
   "outputs": [],
   "source": []
  }
 ],
 "metadata": {
  "kernelspec": {
   "display_name": "Python 3",
   "language": "python",
   "name": "python3"
  },
  "language_info": {
   "codemirror_mode": {
    "name": "ipython",
    "version": 3
   },
   "file_extension": ".py",
   "mimetype": "text/x-python",
   "name": "python",
   "nbconvert_exporter": "python",
   "pygments_lexer": "ipython3",
   "version": "3.7.3"
  },
  "widgets": {
   "application/vnd.jupyter.widget-state+json": {
    "state": {},
    "version_major": 2,
    "version_minor": 0
   }
  }
 },
 "nbformat": 4,
 "nbformat_minor": 2
}
