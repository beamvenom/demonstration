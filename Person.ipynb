{
 "cells": [
  {
   "cell_type": "code",
   "execution_count": 2,
   "metadata": {},
   "outputs": [],
   "source": [
    "from datetime import datetime\n",
    "class Person:\n",
    "    def __init__(self,number=\"unspecified\", name = \"unspecified\"):\n",
    "        self.number = number;\n",
    "        self.name = name;\n",
    "        self.busyTimes = [];\n",
    "    def addTime(self,startTime,endTime):\n",
    "        self.busyTimes.append([startTime,endTime])\n",
    "\n",
    "    def toString(self):\n",
    "        return \"{0}\\tAnställningsnummer: {1}\\n\".format(self.name,self.number)"
   ]
  },
  {
   "cell_type": "code",
   "execution_count": null,
   "metadata": {},
   "outputs": [],
   "source": []
  }
 ],
 "metadata": {
  "kernelspec": {
   "display_name": "Python 3",
   "language": "python",
   "name": "python3"
  },
  "language_info": {
   "codemirror_mode": {
    "name": "ipython",
    "version": 3
   },
   "file_extension": ".py",
   "mimetype": "text/x-python",
   "name": "python",
   "nbconvert_exporter": "python",
   "pygments_lexer": "ipython3",
   "version": "3.7.3"
  },
  "widgets": {
   "application/vnd.jupyter.widget-state+json": {
    "state": {},
    "version_major": 2,
    "version_minor": 0
   }
  }
 },
 "nbformat": 4,
 "nbformat_minor": 2
}
