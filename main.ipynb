{
 "cells": [
  {
   "cell_type": "code",
   "execution_count": null,
   "metadata": {},
   "outputs": [],
   "source": [
    "import import_ipynb\n",
    "from Person import Person\n",
    "from TimeAnalyzer import TimeAnalyzer\n",
    "from ScheduleReader import ScheduleReader\n",
    "from datetime import datetime, timedelta\n",
    "import TextInput\n",
    "import time\n",
    "class main:\n",
    "    s = ScheduleReader(\"freebusy.txt\");\n",
    "    personList = s.transform();\n",
    "    openingTime = TextInput.askDate(\"-------Kontorets Öppningstid-------\", True);\n",
    "    closingTime = TextInput.askDate(\"-------Kontorets Stängingstid-------\",True);\n",
    "    startTime = TextInput.askDate(\"-------Tidigaste mötesdatum-------\");\n",
    "    endTime = TextInput.askDate(\"-------Senaste mötesdatum-------\");\n",
    "    duration = TextInput.intPrompt(\"-------Hur många minuter varar mötet?-------\")\n",
    "    chosenPerson = [];\n",
    "    count = 1;\n",
    "    while(True):\n",
    "        answer = TextInput.readLine(\"-------Person {} (Blankt svar för att fortsätta)-------\".format(count));\n",
    "        if (answer == \"\"):\n",
    "            if(count < 2):\n",
    "                print(\"Lägg till minst en person\");\n",
    "            else:\n",
    "                break;\n",
    "        else:   \n",
    "            if answer in personList.personList and personList.personList[answer] not in chosenPerson:\n",
    "                chosenPerson.append(personList.personList[answer]);\n",
    "                count+=1;\n",
    "            else:\n",
    "                print(\"Den personen är redan tillagd eller imaginär\");\n",
    "    analyzer=TimeAnalyzer(openingTime,closingTime);\n",
    "    start_time = time.time()\n",
    "    result=analyzer.findTime(duration, startTime,endTime,chosenPerson);\n",
    "    elapsed_time = time.time() - start_time\n",
    "    print(\"-------Found Time is: {0} to {1} in: {2}-------\".format(result[0],result[1],elapsed_time));\n",
    "    "
   ]
  },
  {
   "cell_type": "code",
   "execution_count": null,
   "metadata": {},
   "outputs": [],
   "source": []
  },
  {
   "cell_type": "code",
   "execution_count": null,
   "metadata": {},
   "outputs": [],
   "source": [
    "\n"
   ]
  },
  {
   "cell_type": "code",
   "execution_count": null,
   "metadata": {},
   "outputs": [],
   "source": []
  },
  {
   "cell_type": "code",
   "execution_count": null,
   "metadata": {},
   "outputs": [],
   "source": []
  },
  {
   "cell_type": "code",
   "execution_count": null,
   "metadata": {},
   "outputs": [],
   "source": []
  }
 ],
 "metadata": {
  "kernelspec": {
   "display_name": "Python 3",
   "language": "python",
   "name": "python3"
  },
  "language_info": {
   "codemirror_mode": {
    "name": "ipython",
    "version": 3
   },
   "file_extension": ".py",
   "mimetype": "text/x-python",
   "name": "python",
   "nbconvert_exporter": "python",
   "pygments_lexer": "ipython3",
   "version": "3.7.3"
  },
  "widgets": {
   "application/vnd.jupyter.widget-state+json": {
    "state": {},
    "version_major": 2,
    "version_minor": 0
   }
  }
 },
 "nbformat": 4,
 "nbformat_minor": 2
}
